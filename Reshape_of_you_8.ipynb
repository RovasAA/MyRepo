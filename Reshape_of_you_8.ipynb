{
 "cells": [
  {
   "cell_type": "code",
   "execution_count": 35,
   "metadata": {},
   "outputs": [],
   "source": [
    "import numpy as np\n",
    "import pandas as pd\n",
    "import matplotlib.pyplot as plt"
   ]
  },
  {
   "cell_type": "code",
   "execution_count": 36,
   "metadata": {},
   "outputs": [],
   "source": [
    "a = np.array([.6, .4, .5, .5])"
   ]
  },
  {
   "cell_type": "code",
   "execution_count": 37,
   "metadata": {},
   "outputs": [],
   "source": [
    "a=a.reshape(2,2)"
   ]
  },
  {
   "cell_type": "code",
   "execution_count": 38,
   "metadata": {},
   "outputs": [],
   "source": [
    "o = np.array([1,3,3,2,3,3,3,2,1,2,1,1,3,2,3,2,2,1,3,3,1,1,1,2,1])"
   ]
  },
  {
   "cell_type": "code",
   "execution_count": 39,
   "metadata": {},
   "outputs": [],
   "source": [
    "pi = np.array([.8, .2])"
   ]
  },
  {
   "cell_type": "code",
   "execution_count": 40,
   "metadata": {},
   "outputs": [
    {
     "data": {
      "text/plain": [
       "array([[0.2, 0.5],\n",
       "       [0.4, 0.4],\n",
       "       [0.4, 0.1]])"
      ]
     },
     "execution_count": 40,
     "metadata": {},
     "output_type": "execute_result"
    }
   ],
   "source": [
    "p = np.array([.2, .5, .4, .4, .4, .1]).reshape(3,2)\n",
    "p"
   ]
  },
  {
   "cell_type": "code",
   "execution_count": 41,
   "metadata": {},
   "outputs": [
    {
     "name": "stdout",
     "output_type": "stream",
     "text": [
      "[0.16 0.1 ]\n",
      "[0.0584 0.0114]\n",
      "[0.016296 0.002906]\n",
      "[0.00449224 0.00318856]\n",
      "[0.00171585 0.00033912]\n",
      "[4.79627424e-04 8.55898640e-05]\n",
      "[1.32228555e-04 2.34645902e-05]\n",
      "[3.64277711e-05 2.58494868e-05]\n",
      "[6.95628121e-06 1.37479259e-05]\n",
      "[4.41909267e-06 3.86259018e-06]\n",
      "[9.16550139e-07 1.84946608e-06]\n",
      "[2.94932625e-07 6.45676547e-07]\n",
      "[1.99919139e-07 4.40811324e-08]\n",
      "[5.67968199e-08 4.08032888e-08]\n",
      "[2.17918945e-08 4.31203724e-09]\n",
      "[6.09246214e-09 4.34911057e-09]\n",
      "[2.33201303e-09 1.84461606e-09]\n",
      "[4.64303169e-10 9.27556619e-10]\n",
      "[2.96944084e-10 6.49499577e-11]\n",
      "[8.42565718e-11 1.51252613e-11]\n",
      "[1.16233147e-11 2.06326297e-11]\n",
      "[3.45806074e-12 7.48282037e-12]\n",
      "[1.16324933e-12 2.56231724e-12]\n",
      "[7.91643286e-13 6.98583340e-13]\n",
      "[1.64855528e-13 3.32974492e-13]\n"
     ]
    },
    {
     "data": {
      "text/plain": [
       "4.978300204739011e-13"
      ]
     },
     "execution_count": 41,
     "metadata": {},
     "output_type": "execute_result"
    }
   ],
   "source": [
    "alpha = np.array([p[o[0]-1][0]*pi[0],p[o[0]-1][1]*pi[1]])\n",
    "print(alpha)\n",
    "for k in range(len(o)-1):\n",
    "    beta = np.array([alpha[0]*a[0][0]*p[o[k+1]-1][0] + alpha[1]*a[1][0]*p[o[k+1]-1][0], alpha[0]*a[0][1]*p[o[k+1]-1][1] + alpha[1]*a[1][1]*p[o[k+1]-1][1]])\n",
    "    alpha = beta\n",
    "    print(alpha)\n",
    "sum = alpha[0] + alpha[1]\n",
    "sum"
   ]
  },
  {
   "cell_type": "code",
   "execution_count": 42,
   "metadata": {},
   "outputs": [
    {
     "name": "stdout",
     "output_type": "stream",
     "text": [
      "Ответ: 1 - hot, 2 - cold \n"
     ]
    },
    {
     "data": {
      "text/plain": [
       "array([2, 1, 1, 2, 1, 2, 1, 2, 2, 1, 2, 2, 1, 2, 1, 2, 1, 2, 1, 1, 2, 2,\n",
       "       2, 1, 2], dtype=int8)"
      ]
     },
     "execution_count": 42,
     "metadata": {},
     "output_type": "execute_result"
    }
   ],
   "source": [
    "B=np.zeros((25,2))\n",
    "Wa=np.zeros((24,2), dtype = np.int8)\n",
    "In=np.zeros(25, dtype = np.int8)\n",
    "B1=np.zeros(2)\n",
    "for j in range(2):\n",
    "    B[0,j]=pi[j]*p[o[0]-1,j]\n",
    "for i in range(1,25):\n",
    "    for j in range(2):\n",
    "        for l in range(2):\n",
    "            B1[l]=B[i-1,l]*p[l,j]*p[o[i]-1,j]\n",
    "        B[i,j]=np.max(B1)\n",
    "        Wa[i-1,j]=np.argmax(B1)\n",
    "for l in range(2):\n",
    "            B1[l]=B[24,l]\n",
    "In[24]=np.argmax(B1)\n",
    "for i in range(24):\n",
    "    In[23-i]=Wa[23-i,In[24-i]]\n",
    "In=In+1\n",
    "print(\"Ответ: 1 - hot, 2 - cold \")\n",
    "In"
   ]
  },
  {
   "cell_type": "code",
   "execution_count": null,
   "metadata": {},
   "outputs": [],
   "source": []
  },
  {
   "cell_type": "code",
   "execution_count": null,
   "metadata": {},
   "outputs": [],
   "source": []
  }
 ],
 "metadata": {
  "kernelspec": {
   "display_name": "Python 3",
   "language": "python",
   "name": "python3"
  },
  "language_info": {
   "codemirror_mode": {
    "name": "ipython",
    "version": 3
   },
   "file_extension": ".py",
   "mimetype": "text/x-python",
   "name": "python",
   "nbconvert_exporter": "python",
   "pygments_lexer": "ipython3",
   "version": "3.7.0"
  }
 },
 "nbformat": 4,
 "nbformat_minor": 4
}
